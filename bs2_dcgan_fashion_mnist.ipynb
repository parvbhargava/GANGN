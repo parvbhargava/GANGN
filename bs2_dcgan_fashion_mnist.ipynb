{
  "nbformat": 4,
  "nbformat_minor": 0,
  "metadata": {
    "colab": {
      "name": "bs2_dcgan_fashion_mnist.ipynb",
      "provenance": [],
      "collapsed_sections": [],
      "include_colab_link": true
    },
    "kernelspec": {
      "name": "python3",
      "display_name": "Python 3"
    },
    "language_info": {
      "name": "python"
    },
    "accelerator": "GPU"
  },
  "cells": [
    {
      "cell_type": "markdown",
      "metadata": {
        "id": "view-in-github",
        "colab_type": "text"
      },
      "source": [
        "<a href=\"https://colab.research.google.com/github/parvbhargava/GANGN/blob/main/bs2_dcgan_fashion_mnist.ipynb\" target=\"_parent\"><img src=\"https://colab.research.google.com/assets/colab-badge.svg\" alt=\"Open In Colab\"/></a>"
      ]
    },
    {
      "cell_type": "code",
      "source": [
        "!pip install tensorflow_addons"
      ],
      "metadata": {
        "colab": {
          "base_uri": "https://localhost:8080/"
        },
        "id": "saCUH-BaxNTg",
        "outputId": "e129b143-50ad-4836-9dca-d774cae9ae0d"
      },
      "execution_count": 1,
      "outputs": [
        {
          "output_type": "stream",
          "name": "stdout",
          "text": [
            "Looking in indexes: https://pypi.org/simple, https://us-python.pkg.dev/colab-wheels/public/simple/\n",
            "Collecting tensorflow_addons\n",
            "  Downloading tensorflow_addons-0.17.0-cp37-cp37m-manylinux_2_17_x86_64.manylinux2014_x86_64.whl (1.1 MB)\n",
            "\u001b[K     |████████████████████████████████| 1.1 MB 5.0 MB/s \n",
            "\u001b[?25hRequirement already satisfied: typeguard>=2.7 in /usr/local/lib/python3.7/dist-packages (from tensorflow_addons) (2.7.1)\n",
            "Requirement already satisfied: packaging in /usr/local/lib/python3.7/dist-packages (from tensorflow_addons) (21.3)\n",
            "Requirement already satisfied: pyparsing!=3.0.5,>=2.0.2 in /usr/local/lib/python3.7/dist-packages (from packaging->tensorflow_addons) (3.0.9)\n",
            "Installing collected packages: tensorflow-addons\n",
            "Successfully installed tensorflow-addons-0.17.0\n"
          ]
        }
      ]
    },
    {
      "cell_type": "markdown",
      "metadata": {
        "id": "l4URtt5nRhpq"
      },
      "source": [
        "Table of Contents"
      ]
    },
    {
      "cell_type": "markdown",
      "metadata": {
        "colab_type": "toc",
        "id": "7cZ4wzZcJz_e"
      },
      "source": [
        ">[Get Started: DCGAN for Fashion-MNIST](#scrollTo=wxWgWoUYNNYe)\n",
        "\n",
        ">>[Imports](#scrollTo=wcrOk6pURp50)\n",
        "\n",
        ">>[Prepare Fashion-MNIST data](#scrollTo=mu11hf0_rqRq)\n",
        "\n",
        ">>>[Loading](#scrollTo=fswXPGriDWZa)\n",
        "\n",
        ">>>[Visualization](#scrollTo=PFE71AWEDZBp)\n",
        "\n",
        ">>>[Preprocessing](#scrollTo=Eo818wWbDY7S)\n",
        "\n",
        ">>[The generator model](#scrollTo=BY-sz-IFbWr7)\n",
        "\n",
        ">>[The discriminator model](#scrollTo=9qAUg0qNbXpS)\n",
        "\n",
        ">>[Define DCGAN class: override train_step](#scrollTo=urgSpXaPQlKk)\n",
        "\n",
        ">>[Use Keras Callback to monitor training](#scrollTo=QtlnNc4lQw53)\n",
        "\n",
        ">>[Train the DCGAN model](#scrollTo=9OubidSS_Lrl)\n",
        "\n"
      ]
    },
    {
      "cell_type": "markdown",
      "metadata": {
        "id": "wcrOk6pURp50"
      },
      "source": [
        "## Imports"
      ]
    },
    {
      "cell_type": "code",
      "metadata": {
        "id": "VJaCNlDDRz6d"
      },
      "source": [
        "import tensorflow as tf\n",
        "\n",
        "from tensorflow import keras\n",
        "from tensorflow.keras.datasets import fashion_mnist\n",
        "from tensorflow.keras.models import Sequential\n",
        "from tensorflow_addons.layers import GroupNormalization\n",
        "from tensorflow.keras import layers\n",
        "from tensorflow.keras.models import Model\n",
        "from tensorflow.keras.optimizers import Adam\n",
        "\n",
        "from matplotlib import pyplot as plt"
      ],
      "execution_count": 2,
      "outputs": []
    },
    {
      "cell_type": "markdown",
      "metadata": {
        "id": "ywl3XeMzZ_87"
      },
      "source": [
        "Its always a good practice to check the current version of TensorFlow..."
      ]
    },
    {
      "cell_type": "code",
      "metadata": {
        "colab": {
          "base_uri": "https://localhost:8080/"
        },
        "id": "4i5sjvhDXJdW",
        "outputId": "e4a0ff4b-ddff-47b6-ef23-a72ef05ebb4b"
      },
      "source": [
        "print(tf.version.VERSION)"
      ],
      "execution_count": 3,
      "outputs": [
        {
          "output_type": "stream",
          "name": "stdout",
          "text": [
            "2.8.0\n"
          ]
        }
      ]
    },
    {
      "cell_type": "markdown",
      "metadata": {
        "id": "mu11hf0_rqRq"
      },
      "source": [
        "## Prepare Fashion-MNIST data\n",
        "The first step is to get data ready for training.\n"
      ]
    },
    {
      "cell_type": "markdown",
      "metadata": {
        "id": "fswXPGriDWZa"
      },
      "source": [
        "### Loading"
      ]
    },
    {
      "cell_type": "code",
      "metadata": {
        "id": "2CLbL4NKDQOf",
        "colab": {
          "base_uri": "https://localhost:8080/"
        },
        "outputId": "3ac61a53-1e3f-4dd8-c0c6-22e0be9ff227"
      },
      "source": [
        "# load the Fashion MNIST dataset and it's OK to use just the training data\n",
        "(train_images, train_labels), (_, _) = tf.keras.datasets.fashion_mnist.load_data()"
      ],
      "execution_count": 4,
      "outputs": [
        {
          "output_type": "stream",
          "name": "stdout",
          "text": [
            "Downloading data from https://storage.googleapis.com/tensorflow/tf-keras-datasets/train-labels-idx1-ubyte.gz\n",
            "32768/29515 [=================================] - 0s 0us/step\n",
            "40960/29515 [=========================================] - 0s 0us/step\n",
            "Downloading data from https://storage.googleapis.com/tensorflow/tf-keras-datasets/train-images-idx3-ubyte.gz\n",
            "26427392/26421880 [==============================] - 0s 0us/step\n",
            "26435584/26421880 [==============================] - 0s 0us/step\n",
            "Downloading data from https://storage.googleapis.com/tensorflow/tf-keras-datasets/t10k-labels-idx1-ubyte.gz\n",
            "16384/5148 [===============================================================================================] - 0s 0us/step\n",
            "Downloading data from https://storage.googleapis.com/tensorflow/tf-keras-datasets/t10k-images-idx3-ubyte.gz\n",
            "4423680/4422102 [==============================] - 0s 0us/step\n",
            "4431872/4422102 [==============================] - 0s 0us/step\n"
          ]
        }
      ]
    },
    {
      "cell_type": "markdown",
      "metadata": {
        "id": "ZL-abbaGOpaY"
      },
      "source": [
        "There are 60,000 training gray scale images in Fashion-MNIST."
      ]
    },
    {
      "cell_type": "code",
      "metadata": {
        "colab": {
          "base_uri": "https://localhost:8080/"
        },
        "id": "ebRZA80bHTOj",
        "outputId": "33062d4c-32dc-40d6-ccec-3f26e63b6044"
      },
      "source": [
        "train_images.shape"
      ],
      "execution_count": 5,
      "outputs": [
        {
          "output_type": "execute_result",
          "data": {
            "text/plain": [
              "(60000, 28, 28)"
            ]
          },
          "metadata": {},
          "execution_count": 5
        }
      ]
    },
    {
      "cell_type": "code",
      "metadata": {
        "colab": {
          "base_uri": "https://localhost:8080/"
        },
        "id": "bgswpgqfCAYQ",
        "outputId": "8cde69fb-8bec-49fb-c4f2-c36c18ccbca6"
      },
      "source": [
        "type(train_images)"
      ],
      "execution_count": 6,
      "outputs": [
        {
          "output_type": "execute_result",
          "data": {
            "text/plain": [
              "numpy.ndarray"
            ]
          },
          "metadata": {},
          "execution_count": 6
        }
      ]
    },
    {
      "cell_type": "markdown",
      "metadata": {
        "id": "PFE71AWEDZBp"
      },
      "source": [
        "### Visualization\n",
        "\n",
        "I always like to visualize the training data to get an idea of what the images look like. "
      ]
    },
    {
      "cell_type": "code",
      "metadata": {
        "colab": {
          "base_uri": "https://localhost:8080/",
          "height": 265
        },
        "id": "wYkCxiECGSxR",
        "outputId": "92184ba6-1b88-411e-e9de-731c0268358e"
      },
      "source": [
        "plt.figure()\n",
        "plt.imshow(train_images[0], cmap='gray')\n",
        "plt.show()"
      ],
      "execution_count": 7,
      "outputs": [
        {
          "output_type": "display_data",
          "data": {
            "text/plain": [
              "<Figure size 432x288 with 1 Axes>"
            ],
            "image/png": "[encoded data removed]"
          },
          "metadata": {
            "needs_background": "light"
          }
        }
      ]
    },
    {
      "cell_type": "markdown",
      "metadata": {
        "id": "Eo818wWbDY7S"
      },
      "source": [
        "### Preprocessing"
      ]
    },
    {
      "cell_type": "code",
      "metadata": {
        "id": "AIcdRCYcDThc",
        "colab": {
          "base_uri": "https://localhost:8080/"
        },
        "outputId": "ec8985e5-c81d-4b24-8746-19f0300ccac7"
      },
      "source": [
        "# Reshape data and also convert the data type to 'float32'\n",
        "print(train_images.shape)\n",
        "train_images = train_images.reshape(train_images.shape[0], 28, 28, 1).astype('float32')\n",
        "print(train_images.shape)\n",
        "\n",
        "# Normalize the images to [-1, 1] which is the range of the tanh activation\n",
        "train_images = (train_images - 127.5) / 127.5  "
      ],
      "execution_count": 8,
      "outputs": [
        {
          "output_type": "stream",
          "name": "stdout",
          "text": [
            "(60000, 28, 28)\n",
            "(60000, 28, 28, 1)\n"
          ]
        }
      ]
    },
    {
      "cell_type": "markdown",
      "metadata": {
        "id": "BY-sz-IFbWr7"
      },
      "source": [
        "## The generator model\n",
        "\n",
        "Define the generator model architecture with the Keras `Sequential` API.\n",
        "\n",
        "Use `ReLU` except for the last layer which has `tanh` as the activation.\n",
        "\n",
        "The job of the generator is to make images, to do so in DCGAN, we feed random noise as input to the generator and upsample till the desired image size becomes 28x28x1."
      ]
    },
    {
      "cell_type": "code",
      "metadata": {
        "id": "F2mrQ1VCMlX2"
      },
      "source": [
        "# latent dimension of the random noise\n",
        "LATENT_DIM = 100 \n",
        "# weight initializer for G per DCGAN paper\n",
        "WEIGHT_INIT = tf.keras.initializers.RandomNormal(mean=0.0, stddev=0.02) \n",
        "# number of channels, 1 for gray scale and 3 for color images\n",
        "CHANNELS = 1"
      ],
      "execution_count": 9,
      "outputs": []
    },
    {
      "cell_type": "code",
      "metadata": {
        "id": "bVjZj3kUqutJ"
      },
      "source": [
        "def build_generator():\n",
        "    # create a Keras Sequential model \n",
        "    model = Sequential(name=\"generator\")\n",
        "\n",
        "    # prepare for reshape: FC => GN => RN layers, note: input shape defined in the 1st Dense layer  \n",
        "    model.add(layers.Dense(7 * 7 * 256, input_dim=LATENT_DIM))\n",
        "    model.add(GroupNormalization(batch_size=2))\n",
        "    model.add(layers.ReLU())\n",
        "\n",
        "    # 1D => 3D: reshape the output of the previous layer \n",
        "    model.add(layers.Reshape((7, 7, 256)))\n",
        "\n",
        "    # upsample to 14x14: apply a transposed CONV => GN => RELU\n",
        "    model.add(layers.Conv2DTranspose(128, (5, 5), strides=(2, 2),padding=\"same\", kernel_initializer=WEIGHT_INIT))\n",
        "    model.add(GroupNormalization(batch_size=2))\n",
        "    model.add((layers.ReLU()))\n",
        "\n",
        "    # upsample to 28x28: apply a transposed CONV => GN => RELU\n",
        "    model.add(layers.Conv2DTranspose(64, (5, 5), strides=(2, 2),padding=\"same\", kernel_initializer=WEIGHT_INIT))\n",
        "    model.add(GroupNormalization(batch_size=2))\n",
        "    model.add((layers.ReLU()))\n",
        "\n",
        "    # final layer: Conv2D with tanh activation\n",
        "    model.add(layers.Conv2D(CHANNELS, (5, 5), padding=\"same\", activation=\"tanh\"))\n",
        "\n",
        "    # return the generator model\n",
        "    return model"
      ],
      "execution_count": 10,
      "outputs": []
    },
    {
      "cell_type": "code",
      "metadata": {
        "id": "EEQz2iA2-XUq"
      },
      "source": [
        "# build the generator model\n",
        "generator = build_generator() "
      ],
      "execution_count": 11,
      "outputs": []
    },
    {
      "cell_type": "code",
      "metadata": {
        "colab": {
          "base_uri": "https://localhost:8080/"
        },
        "id": "wEDbYmNL-t99",
        "outputId": "4c6b4fb2-2c22-43d2-8c43-a89a108da85b"
      },
      "source": [
        "generator.summary()"
      ],
      "execution_count": 12,
      "outputs": [
        {
          "output_type": "stream",
          "name": "stdout",
          "text": [
            "Model: \"generator\"\n",
            "_________________________________________________________________\n",
            " Layer (type)                Output Shape              Param #   \n",
            "=================================================================\n",
            " dense (Dense)               (None, 12544)             1266944   \n",
            "                                                                 \n",
            " group_normalization (GroupN  (None, 12544)            25088     \n",
            " ormalization)                                                   \n",
            "                                                                 \n",
            " re_lu (ReLU)                (None, 12544)             0         \n",
            "                                                                 \n",
            " reshape (Reshape)           (None, 7, 7, 256)         0         \n",
            "                                                                 \n",
            " conv2d_transpose (Conv2DTra  (None, 14, 14, 128)      819328    \n",
            " nspose)                                                         \n",
            "                                                                 \n",
            " group_normalization_1 (Grou  (None, 14, 14, 128)      256       \n",
            " pNormalization)                                                 \n",
            "                                                                 \n",
            " re_lu_1 (ReLU)              (None, 14, 14, 128)       0         \n",
            "                                                                 \n",
            " conv2d_transpose_1 (Conv2DT  (None, 28, 28, 64)       204864    \n",
            " ranspose)                                                       \n",
            "                                                                 \n",
            " group_normalization_2 (Grou  (None, 28, 28, 64)       128       \n",
            " pNormalization)                                                 \n",
            "                                                                 \n",
            " re_lu_2 (ReLU)              (None, 28, 28, 64)        0         \n",
            "                                                                 \n",
            " conv2d (Conv2D)             (None, 28, 28, 1)         1601      \n",
            "                                                                 \n",
            "=================================================================\n",
            "Total params: 2,318,209\n",
            "Trainable params: 2,318,209\n",
            "Non-trainable params: 0\n",
            "_________________________________________________________________\n"
          ]
        }
      ]
    },
    {
      "cell_type": "markdown",
      "metadata": {
        "id": "9qAUg0qNbXpS"
      },
      "source": [
        "## The discriminator model\n",
        "\n",
        "Define the discriminator model architecture with the Keras `Sequential` API"
      ]
    },
    {
      "cell_type": "code",
      "metadata": {
        "id": "M9OaVagUqgOW"
      },
      "source": [
        "def build_discriminator(width, height, depth, alpha=0.2):\n",
        "    # create a Keras Sequential model\n",
        "    model = Sequential(name=\"discriminator\")\n",
        "    input_shape = (height, width, depth)\n",
        "\n",
        "    # first set of CONV => GN => leaky ReLU layers\n",
        "    model.add(layers.Conv2D(64, (5, 5), strides=(2, 2), padding=\"same\", \n",
        "        input_shape=input_shape))\n",
        "    model.add(GroupNormalization(batch_size=2))\n",
        "    model.add(layers.LeakyReLU(alpha=alpha))\n",
        "\n",
        "    # second set of CONV => GN => leacy ReLU layers\n",
        "    model.add(layers.Conv2D(128, (5, 5), strides=(2, 2), padding=\"same\"))\n",
        "    model.add(GroupNormalization(batch_size=2))\n",
        "    model.add(layers.LeakyReLU(alpha=alpha))\n",
        "\n",
        "    # flatten and apply dropout\n",
        "    model.add(layers.Flatten())\n",
        "    model.add(layers.Dropout(0.3))\n",
        "\n",
        "    # sigmoid in the last layer outputs a single value for binary classification\n",
        "    model.add(layers.Dense(1, activation=\"sigmoid\"))\n",
        "\n",
        "    # return the discriminator model\n",
        "    return model"
      ],
      "execution_count": 13,
      "outputs": []
    },
    {
      "cell_type": "code",
      "metadata": {
        "id": "db7E0vd9-5S2"
      },
      "source": [
        "# build the discriminator model\n",
        "discriminator = build_discriminator(28, 28, 1) "
      ],
      "execution_count": 14,
      "outputs": []
    },
    {
      "cell_type": "code",
      "metadata": {
        "colab": {
          "base_uri": "https://localhost:8080/"
        },
        "id": "synlf4iD_S9Z",
        "outputId": "79835147-ae25-4a24-a37b-f0f2bb0992a6"
      },
      "source": [
        "discriminator.summary()"
      ],
      "execution_count": 15,
      "outputs": [
        {
          "output_type": "stream",
          "name": "stdout",
          "text": [
            "Model: \"discriminator\"\n",
            "_________________________________________________________________\n",
            " Layer (type)                Output Shape              Param #   \n",
            "=================================================================\n",
            " conv2d_1 (Conv2D)           (None, 14, 14, 64)        1664      \n",
            "                                                                 \n",
            " group_normalization_3 (Grou  (None, 14, 14, 64)       128       \n",
            " pNormalization)                                                 \n",
            "                                                                 \n",
            " leaky_re_lu (LeakyReLU)     (None, 14, 14, 64)        0         \n",
            "                                                                 \n",
            " conv2d_2 (Conv2D)           (None, 7, 7, 128)         204928    \n",
            "                                                                 \n",
            " group_normalization_4 (Grou  (None, 7, 7, 128)        256       \n",
            " pNormalization)                                                 \n",
            "                                                                 \n",
            " leaky_re_lu_1 (LeakyReLU)   (None, 7, 7, 128)         0         \n",
            "                                                                 \n",
            " flatten (Flatten)           (None, 6272)              0         \n",
            "                                                                 \n",
            " dropout (Dropout)           (None, 6272)              0         \n",
            "                                                                 \n",
            " dense_1 (Dense)             (None, 1)                 6273      \n",
            "                                                                 \n",
            "=================================================================\n",
            "Total params: 213,249\n",
            "Trainable params: 213,249\n",
            "Non-trainable params: 0\n",
            "_________________________________________________________________\n"
          ]
        }
      ]
    },
    {
      "cell_type": "markdown",
      "metadata": {
        "id": "urgSpXaPQlKk"
      },
      "source": [
        "## Define `DCGAN` class: override `train_step`\n",
        "Subclass `keras.Model` and override `train_step` to implement the DCGAN architecture. This is where the magic happens and the heart of the DCGAN implementation. \n",
        "\n",
        "**The discriminator loss** includes both the loss from the real images and the loss from the fake images.  \n",
        "**The generator loss** is calculated with thefake images.\n"
      ]
    },
    {
      "cell_type": "code",
      "metadata": {
        "id": "Uc4nZaU999iq"
      },
      "source": [
        "class DCGAN(keras.Model):\n",
        "    def __init__(self, discriminator, generator, latent_dim):\n",
        "        super().__init__()\n",
        "        self.discriminator = discriminator\n",
        "        self.generator = generator\n",
        "        self.latent_dim = latent_dim\n",
        "        self.d_loss_metric = keras.metrics.Mean(name=\"d_loss\")\n",
        "        self.g_loss_metric = keras.metrics.Mean(name=\"g_loss\")\n",
        "\n",
        "    def compile(self, d_optimizer, g_optimizer, loss_fn):\n",
        "        super(DCGAN, self).compile()\n",
        "        self.d_optimizer = d_optimizer\n",
        "        self.g_optimizer = g_optimizer\n",
        "        self.loss_fn = loss_fn\n",
        "\n",
        "    @property\n",
        "    def metrics(self):\n",
        "        return [self.d_loss_metric, self.g_loss_metric]\n",
        "\n",
        "    def train_step(self, real_images):\n",
        "\n",
        "        batch_size = tf.shape(real_images)[0]\n",
        "        noise = tf.random.normal(shape=(batch_size, self.latent_dim))\n",
        "\n",
        "        # Step 1. Train the discriminator with both real images (label as 1) and fake images (classified as label as 0) \n",
        "        with tf.GradientTape() as tape:\n",
        "            # Compute discriminator loss on real images\n",
        "            pred_real = self.discriminator(real_images, training=True)\n",
        "            d_loss_real = self.loss_fn(tf.ones((batch_size, 1)), pred_real)\n",
        "\n",
        "            # Compute discriminator loss on fake images\n",
        "            fake_images = self.generator(noise)\n",
        "            pred_fake = self.discriminator(fake_images, training=True)\n",
        "            d_loss_fake = self.loss_fn(tf.zeros((batch_size, 1)), pred_fake)\n",
        "\n",
        "            # total discriminator loss\n",
        "            d_loss = (d_loss_real + d_loss_fake)/2\n",
        "        # Compute discriminator gradients\n",
        "        grads = tape.gradient(d_loss, self.discriminator.trainable_variables)\n",
        "        # Update discriminator weights\n",
        "        self.d_optimizer.apply_gradients(zip(grads, self.discriminator.trainable_variables))\n",
        "\n",
        "        # Step 2. Train the generator (do not update weights of the discriminator)\n",
        "        # G wants D to think the fake images are real (label as 1)\n",
        "        misleading_labels = tf.ones((batch_size, 1)) \n",
        "\n",
        "        with tf.GradientTape() as tape:\n",
        "            fake_images = self.generator(noise, training=True)\n",
        "            pred_fake = self.discriminator(fake_images, training=True)\n",
        "            g_loss = self.loss_fn(misleading_labels, pred_fake)\n",
        "        # Compute generator gradients\n",
        "        grads = tape.gradient(g_loss, self.generator.trainable_variables)\n",
        "        # Update generator weights\n",
        "        self.g_optimizer.apply_gradients(zip(grads, self.generator.trainable_variables))\n",
        "\n",
        "        self.d_loss_metric.update_state(d_loss)\n",
        "        self.g_loss_metric.update_state(g_loss)\n",
        "\n",
        "        return {\"d_loss\": self.d_loss_metric.result(), \"g_loss\": self.g_loss_metric.result()}"
      ],
      "execution_count": 16,
      "outputs": []
    },
    {
      "cell_type": "markdown",
      "metadata": {
        "id": "QtlnNc4lQw53"
      },
      "source": [
        "## Use Keras `Callback` to monitor training"
      ]
    },
    {
      "cell_type": "markdown",
      "metadata": {
        "id": "Ncj2hR0HSV8l"
      },
      "source": [
        "The nice thing about overriding `train_step` of `keras.Model` is that we can subclass `Callback` to monitor our DCGAN training."
      ]
    },
    {
      "cell_type": "markdown",
      "metadata": {
        "id": "bRdNGQbpSIby"
      },
      "source": [
        "I use the seed noise to create images (with the generator model) throughout the training to visually inspect the progress of the generator. You can also save the generator model at the end of the training which could potentially be used for inference later."
      ]
    },
    {
      "cell_type": "code",
      "metadata": {
        "id": "bGhG9Trm-HpP"
      },
      "source": [
        "class GANMonitor(keras.callbacks.Callback):\n",
        "    def __init__(self, num_img=3, latent_dim=100):\n",
        "        self.num_img = num_img\n",
        "        self.latent_dim = latent_dim\n",
        "\n",
        "        # Create random noise seed for visualization during training\n",
        "        self.seed = tf.random.normal([16, latent_dim])\n",
        "\n",
        "    def on_epoch_end(self, epoch, logs=None):\n",
        "        # random_latent_vectors = tf.random.normal(shape=(self.num_img, self.latent_dim))\n",
        "        # generated_images = self.model.generator(random_latent_vectors)\n",
        "        generated_images = self.model.generator(self.seed)\n",
        "        generated_images = (generated_images * 127.5) + 127.5\n",
        "        generated_images.numpy()\n",
        "\n",
        "        fig = plt.figure(figsize=(4, 4))\n",
        "        for i in range(self.num_img):\n",
        "            plt.subplot(4, 4, i+1)\n",
        "            img = keras.utils.array_to_img(generated_images[i]) \n",
        "            plt.imshow(img, cmap='gray')\n",
        "            plt.axis('off')\n",
        "        plt.savefig('epoch_{:03d}.png'.format(epoch)) \n",
        "        plt.show()\n",
        "\n",
        "    def on_train_end(self, logs=None):\n",
        "        self.model.generator.save('generator.h5')"
      ],
      "execution_count": 17,
      "outputs": []
    },
    {
      "cell_type": "markdown",
      "metadata": {
        "id": "9OubidSS_Lrl"
      },
      "source": [
        "## Train the DCGAN model\n",
        "\n",
        "Compile the `dcgan` model, with the `Adam` optimizer, learning rate of 0.0002, and the **Binary Cross Entropy** loss functionas recommended by the paper. In future GAN tutorials, you will learn other loss functions for other GAN variants."
      ]
    },
    {
      "cell_type": "markdown",
      "metadata": {
        "id": "FzjTO5ZqRLVY"
      },
      "source": [
        "Putting together the `dcgan` model."
      ]
    },
    {
      "cell_type": "code",
      "metadata": {
        "id": "MxaV8juyRIOs"
      },
      "source": [
        "dcgan = DCGAN(discriminator=discriminator, generator=generator, latent_dim=LATENT_DIM)"
      ],
      "execution_count": 18,
      "outputs": []
    },
    {
      "cell_type": "markdown",
      "metadata": {
        "id": "ltkSRpe4Kxrb"
      },
      "source": [
        "Compile the `dcgan` model."
      ]
    },
    {
      "cell_type": "code",
      "metadata": {
        "id": "5pdFGNUs_K-e"
      },
      "source": [
        "LR = 0.0002 # learning rate\n",
        "\n",
        "dcgan.compile(\n",
        "    d_optimizer=keras.optimizers.Adam(learning_rate=LR, beta_1 = 0.5),\n",
        "    g_optimizer=keras.optimizers.Adam(learning_rate=LR, beta_1 = 0.5),\n",
        "    loss_fn=keras.losses.BinaryCrossentropy(),\n",
        ")"
      ],
      "execution_count": 19,
      "outputs": []
    },
    {
      "cell_type": "markdown",
      "metadata": {
        "id": "1WhnM4ptN2rp"
      },
      "source": [
        "Now we simply call `model.fit()` to traing the `dcgan` model!"
      ]
    },
    {
      "cell_type": "code",
      "metadata": {
        "colab": {
          "base_uri": "https://localhost:8080/",
          "height": 618
        },
        "id": "GbTrrP_QD4Xf",
        "outputId": "ddcd35c0-d79d-41d0-bdd0-a8caf09936bb"
      },
      "source": [
        "NUM_EPOCHS = 50 # number of epochs\n",
        "dcgan.fit(train_images, epochs=NUM_EPOCHS, callbacks=[GANMonitor(num_img=16, latent_dim=LATENT_DIM)])"
      ],
      "execution_count": null,
      "outputs": [
        {
          "output_type": "stream",
          "name": "stdout",
          "text": [
            "Epoch 1/50\n",
            "1875/1875 [==============================] - ETA: 0s - d_loss: 0.5346 - g_loss: 1.5873"
          ]
        },
        {
          "output_type": "display_data",
          "data": {
            "text/plain": [
              "<Figure size 288x288 with 16 Axes>"
            ],
            "image/png": "[encoded data removed]"
          },
          "metadata": {
            "needs_background": "light"
          }
        },
        {
          "output_type": "stream",
          "name": "stdout",
          "text": [
            "\b\b\b\b\b\b\b\b\b\b\b\b\b\b\b\b\b\b\b\b\b\b\b\b\b\b\b\b\b\b\b\b\b\b\b\b\b\b\b\b\b\b\b\b\b\b\b\b\b\b\b\b\b\b\b\b\b\b\b\b\b\b\b\b\b\b\b\b\b\b\b\b\b\b\b\b\b\b\b\b\b\b\b\b\b\b\r1875/1875 [==============================] - 62s 23ms/step - d_loss: 0.5346 - g_loss: 1.5873\n",
            "Epoch 2/50\n",
            "1874/1875 [============================>.] - ETA: 0s - d_loss: 0.6349 - g_loss: 1.0701"
          ]
        },
        {
          "output_type": "display_data",
          "data": {
            "text/plain": [
              "<Figure size 288x288 with 16 Axes>"
            ],
            "image/png": "[encoded data removed]"
          },
          "metadata": {
            "needs_background": "light"
          }
        },
        {
          "output_type": "stream",
          "name": "stdout",
          "text": [
            "\b\b\b\b\b\b\b\b\b\b\b\b\b\b\b\b\b\b\b\b\b\b\b\b\b\b\b\b\b\b\b\b\b\b\b\b\b\b\b\b\b\b\b\b\b\b\b\b\b\b\b\b\b\b\b\b\b\b\b\b\b\b\b\b\b\b\b\b\b\b\b\b\b\b\b\b\b\b\b\b\b\b\b\b\b\b\r1875/1875 [==============================] - 46s 24ms/step - d_loss: 0.6349 - g_loss: 1.0700\n",
            "Epoch 3/50\n",
            " 165/1875 [=>............................] - ETA: 42s - d_loss: 0.6596 - g_loss: 0.9835"
          ]
        }
      ]
    },
    {
      "cell_type": "code",
      "metadata": {
        "id": "Sp0C8wIwXeAN"
      },
      "source": [
        ""
      ],
      "execution_count": null,
      "outputs": []
    }
  ]
}