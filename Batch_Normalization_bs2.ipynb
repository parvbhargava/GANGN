{
  "nbformat": 4,
  "nbformat_minor": 0,
  "metadata": {
    "colab": {
      "name": "Batch Normalization bs2.ipynb",
      "provenance": [],
      "authorship_tag": "ABX9TyPU2MvXdaopHSBA8J+Tj/u6",
      "include_colab_link": true
    },
    "kernelspec": {
      "name": "python3",
      "display_name": "Python 3"
    },
    "language_info": {
      "name": "python"
    },
    "accelerator": "GPU"
  },
  "cells": [
    {
      "cell_type": "markdown",
      "metadata": {
        "id": "view-in-github",
        "colab_type": "text"
      },
      "source": [
        "<a href=\"https://colab.research.google.com/github/parvbhargava/GANGN/blob/main/Batch_Normalization_bs2.ipynb\" target=\"_parent\"><img src=\"https://colab.research.google.com/assets/colab-badge.svg\" alt=\"Open In Colab\"/></a>"
      ]
    },
    {
      "cell_type": "code",
      "source": [
        "!pip3 install tensorflow_addons"
      ],
      "metadata": {
        "colab": {
          "base_uri": "https://localhost:8080/"
        },
        "id": "knAB2yOyeUod",
        "outputId": "4e0d58e1-73fc-4362-a25d-665ef333ad54"
      },
      "execution_count": 12,
      "outputs": [
        {
          "output_type": "stream",
          "name": "stdout",
          "text": [
            "Looking in indexes: https://pypi.org/simple, https://us-python.pkg.dev/colab-wheels/public/simple/\n",
            "Requirement already satisfied: tensorflow_addons in /usr/local/lib/python3.7/dist-packages (0.17.0)\n",
            "Requirement already satisfied: packaging in /usr/local/lib/python3.7/dist-packages (from tensorflow_addons) (21.3)\n",
            "Requirement already satisfied: typeguard>=2.7 in /usr/local/lib/python3.7/dist-packages (from tensorflow_addons) (2.7.1)\n",
            "Requirement already satisfied: pyparsing!=3.0.5,>=2.0.2 in /usr/local/lib/python3.7/dist-packages (from packaging->tensorflow_addons) (3.0.9)\n"
          ]
        }
      ]
    },
    {
      "cell_type": "code",
      "source": [
        "# Importing necessary dependencies\n",
        "import tensorflow as tf\n",
        "from tensorflow.keras import layers\n",
        "import seaborn as sns\n",
        "import numpy as np\n",
        "import pandas as pd\n",
        "import matplotlib.pyplot as plt\n",
        "from tensorflow.keras import layers\n",
        "import time\n",
        "from PIL import Image\n",
        "\n",
        "from keras.datasets.fashion_mnist import load_data\n",
        "\n",
        "TPU_used = False\n",
        "\n",
        "if TPU_used:\n",
        "    try:\n",
        "        tpu = tf.distribute.cluster_resolver.TPUClusterResolver()  # TPU detection\n",
        "        print('Running on TPU ', tpu.cluster_spec().as_dict()['worker'])\n",
        "    except ValueError:\n",
        "        raise BaseException('ERROR: Not connected to a TPU runtime; please see the previous cell in this notebook for instructions!')\n",
        "\n",
        "    tf.config.experimental_connect_to_cluster(tpu)\n",
        "    tf.tpu.experimental.initialize_tpu_system(tpu)\n",
        "    tpu_strategy = tf.distribute.experimental.TPUStrategy(tpu)"
      ],
      "metadata": {
        "id": "tovFC6iEhaYH"
      },
      "execution_count": 13,
      "outputs": []
    },
    {
      "cell_type": "code",
      "source": [
        "np.random.seed(1337)\n",
        "num_classes = 10\n",
        "\n",
        "epochs = 30\n",
        "latent_dim = 128\n",
        "\n",
        "adam_lr = 0.0002\n",
        "adam_beta_1 = 0.5"
      ],
      "metadata": {
        "id": "k4_MnFlEC2-J"
      },
      "execution_count": 14,
      "outputs": []
    },
    {
      "cell_type": "code",
      "source": [
        "# Importing data\n",
        "batch_size = 2\n",
        "(x_train, _), (x_test, _) = load_data()\n",
        "all_images = np.concatenate([x_train, x_test])\n",
        "all_images = all_images.astype(\"float32\") / 255\n",
        "all_images = np.reshape(all_images, (-1, 28, 28, 1))\n",
        "dataset = tf.data.Dataset.from_tensor_slices(all_images)\n",
        "dataset = dataset.shuffle(buffer_size=1024).batch(batch_size).prefetch(32)"
      ],
      "metadata": {
        "id": "mn2cshGHC7s_"
      },
      "execution_count": 15,
      "outputs": []
    },
    {
      "cell_type": "code",
      "source": [
        "print(x_test.shape)\n",
        "print(x_train.shape)"
      ],
      "metadata": {
        "colab": {
          "base_uri": "https://localhost:8080/"
        },
        "id": "20hqmPfp4Dva",
        "outputId": "53f25823-9eee-40f7-8e17-f88af29d19bd"
      },
      "execution_count": 16,
      "outputs": [
        {
          "output_type": "stream",
          "name": "stdout",
          "text": [
            "(10000, 28, 28)\n",
            "(60000, 28, 28)\n"
          ]
        }
      ]
    },
    {
      "cell_type": "code",
      "source": [
        "# Building the discriminator\n",
        "def define_discriminator():\n",
        "    model = tf.keras.Sequential(\n",
        "        [\n",
        "            layers.Conv2D(32, 3, strides=2, padding='same',\n",
        "                          input_shape=(28, 28, 1)),\n",
        "            layers.LeakyReLU(alpha=0.2),\n",
        "            layers.Dropout(0.5),\n",
        "            \n",
        "            layers.Conv2D(64, 3, padding='same'),\n",
        "            layers.BatchNormalization(),\n",
        "            layers.LeakyReLU(alpha=0.2),\n",
        "            layers.Dropout(0.5),\n",
        "            \n",
        "            layers.Conv2D(128, 3, strides=2, padding='same'),\n",
        "            layers.BatchNormalization(),\n",
        "            layers.LeakyReLU(alpha=0.2),\n",
        "            layers.Dropout(0.5),\n",
        "            \n",
        "            layers.Conv2D(256, 3, padding='same'),\n",
        "            layers.BatchNormalization(),\n",
        "            layers.LeakyReLU(alpha=0.2),\n",
        "            layers.Dropout(0.5),\n",
        "            \n",
        "            layers.GlobalMaxPooling2D(),\n",
        "            layers.Dense(1, activation='sigmoid')\n",
        "        ]\n",
        "    )\n",
        "    \n",
        "    return model\n",
        "if TPU_used:\n",
        "  with tpu_strategy.scope():\n",
        "    discriminator = define_discriminator()\n",
        "else:\n",
        "  discriminator = define_discriminator()\n",
        "discriminator.summary()"
      ],
      "metadata": {
        "colab": {
          "base_uri": "https://localhost:8080/"
        },
        "id": "DhQpolPZDNe0",
        "outputId": "ded514a1-2a5d-47a2-caa8-87f3232e59cf"
      },
      "execution_count": 17,
      "outputs": [
        {
          "output_type": "stream",
          "name": "stdout",
          "text": [
            "Model: \"sequential_2\"\n",
            "_________________________________________________________________\n",
            " Layer (type)                Output Shape              Param #   \n",
            "=================================================================\n",
            " conv2d_5 (Conv2D)           (None, 14, 14, 32)        320       \n",
            "                                                                 \n",
            " leaky_re_lu_7 (LeakyReLU)   (None, 14, 14, 32)        0         \n",
            "                                                                 \n",
            " dropout_4 (Dropout)         (None, 14, 14, 32)        0         \n",
            "                                                                 \n",
            " conv2d_6 (Conv2D)           (None, 14, 14, 64)        18496     \n",
            "                                                                 \n",
            " batch_normalization_5 (Batc  (None, 14, 14, 64)       256       \n",
            " hNormalization)                                                 \n",
            "                                                                 \n",
            " leaky_re_lu_8 (LeakyReLU)   (None, 14, 14, 64)        0         \n",
            "                                                                 \n",
            " dropout_5 (Dropout)         (None, 14, 14, 64)        0         \n",
            "                                                                 \n",
            " conv2d_7 (Conv2D)           (None, 7, 7, 128)         73856     \n",
            "                                                                 \n",
            " batch_normalization_6 (Batc  (None, 7, 7, 128)        512       \n",
            " hNormalization)                                                 \n",
            "                                                                 \n",
            " leaky_re_lu_9 (LeakyReLU)   (None, 7, 7, 128)         0         \n",
            "                                                                 \n",
            " dropout_6 (Dropout)         (None, 7, 7, 128)         0         \n",
            "                                                                 \n",
            " conv2d_8 (Conv2D)           (None, 7, 7, 256)         295168    \n",
            "                                                                 \n",
            " batch_normalization_7 (Batc  (None, 7, 7, 256)        1024      \n",
            " hNormalization)                                                 \n",
            "                                                                 \n",
            " leaky_re_lu_10 (LeakyReLU)  (None, 7, 7, 256)         0         \n",
            "                                                                 \n",
            " dropout_7 (Dropout)         (None, 7, 7, 256)         0         \n",
            "                                                                 \n",
            " global_max_pooling2d_1 (Glo  (None, 256)              0         \n",
            " balMaxPooling2D)                                                \n",
            "                                                                 \n",
            " dense_2 (Dense)             (None, 1)                 257       \n",
            "                                                                 \n",
            "=================================================================\n",
            "Total params: 389,889\n",
            "Trainable params: 388,993\n",
            "Non-trainable params: 896\n",
            "_________________________________________________________________\n"
          ]
        }
      ]
    },
    {
      "cell_type": "code",
      "source": [
        "# Building the generator\n",
        "def define_generator(latent_size):\n",
        "    model = tf.keras.Sequential(\n",
        "        [\n",
        "            layers.Dense(7 * 7 * 128, input_dim=latent_size),\n",
        "            layers.LeakyReLU(alpha=0.2),\n",
        "            layers.Reshape((7, 7, 128)),\n",
        "            \n",
        "            layers.Conv2DTranspose(128, 4, strides=2, padding='same',\n",
        "                                   kernel_initializer='glorot_normal'),\n",
        "            layers.LeakyReLU(alpha=0.2),\n",
        "            layers.BatchNormalization(),\n",
        "            \n",
        "            layers.Conv2DTranspose(128, 4, strides=2, padding='same',\n",
        "                                   kernel_initializer='glorot_normal'),\n",
        "            layers.LeakyReLU(alpha=0.2),\n",
        "            layers.BatchNormalization(),\n",
        "            \n",
        "            layers.Conv2D(1, 7, padding='same',\n",
        "                          activation='tanh',\n",
        "                          kernel_initializer='glorot_normal')\n",
        "        ]\n",
        "    )\n",
        "    \n",
        "    return model\n",
        "if TPU_used:\n",
        "    with tpu_strategy.scope():\n",
        "        generator = define_generator(latent_dim)\n",
        "else:\n",
        "    generator = define_generator(latent_dim)\n",
        "generator.summary()"
      ],
      "metadata": {
        "colab": {
          "base_uri": "https://localhost:8080/"
        },
        "id": "FKa92g_1MMUV",
        "outputId": "2c003034-7563-4009-8ade-6981c52ecdb9"
      },
      "execution_count": 18,
      "outputs": [
        {
          "output_type": "stream",
          "name": "stdout",
          "text": [
            "Model: \"sequential_3\"\n",
            "_________________________________________________________________\n",
            " Layer (type)                Output Shape              Param #   \n",
            "=================================================================\n",
            " dense_3 (Dense)             (None, 6272)              809088    \n",
            "                                                                 \n",
            " leaky_re_lu_11 (LeakyReLU)  (None, 6272)              0         \n",
            "                                                                 \n",
            " reshape_1 (Reshape)         (None, 7, 7, 128)         0         \n",
            "                                                                 \n",
            " conv2d_transpose_2 (Conv2DT  (None, 14, 14, 128)      262272    \n",
            " ranspose)                                                       \n",
            "                                                                 \n",
            " leaky_re_lu_12 (LeakyReLU)  (None, 14, 14, 128)       0         \n",
            "                                                                 \n",
            " batch_normalization_8 (Batc  (None, 14, 14, 128)      512       \n",
            " hNormalization)                                                 \n",
            "                                                                 \n",
            " conv2d_transpose_3 (Conv2DT  (None, 28, 28, 128)      262272    \n",
            " ranspose)                                                       \n",
            "                                                                 \n",
            " leaky_re_lu_13 (LeakyReLU)  (None, 28, 28, 128)       0         \n",
            "                                                                 \n",
            " batch_normalization_9 (Batc  (None, 28, 28, 128)      512       \n",
            " hNormalization)                                                 \n",
            "                                                                 \n",
            " conv2d_9 (Conv2D)           (None, 28, 28, 1)         6273      \n",
            "                                                                 \n",
            "=================================================================\n",
            "Total params: 1,340,929\n",
            "Trainable params: 1,340,417\n",
            "Non-trainable params: 512\n",
            "_________________________________________________________________\n"
          ]
        }
      ]
    },
    {
      "cell_type": "code",
      "source": [
        "# Building the composite model\n",
        "class GAN(tf.keras.Model):\n",
        "    def __init__(self, discriminator, generator, latent_dim):\n",
        "        super(GAN, self).__init__()\n",
        "        self.discriminator = discriminator\n",
        "        self.generator = generator\n",
        "        self.latent_dim = latent_dim\n",
        "\n",
        "    def compile(self, d_optimizer, g_optimizer, loss_fn):\n",
        "        super(GAN, self).compile()\n",
        "        self.d_optimizer = d_optimizer\n",
        "        self.g_optimizer = g_optimizer\n",
        "        self.loss_fn = loss_fn\n",
        "\n",
        "    def train_step(self, real_images):\n",
        "        if isinstance(real_images, tuple):\n",
        "            real_images = real_images[0]\n",
        "        # Sample random points in the latent space\n",
        "        batch_size = tf.shape(real_images)[0]\n",
        "        random_latent_vectors = tf.random.normal(shape=(batch_size, self.latent_dim))\n",
        "\n",
        "        # Decode them to fake images\n",
        "        generated_images = self.generator(random_latent_vectors)\n",
        "\n",
        "        # Combine them with real images\n",
        "        combined_images = tf.concat([generated_images, real_images], axis=0)\n",
        "\n",
        "        # Assemble labels discriminating real from fake images\n",
        "        labels = tf.concat(\n",
        "            [tf.ones((batch_size, 1)), tf.zeros((batch_size, 1))], axis=0\n",
        "        )\n",
        "        # Add random noise to the labels - important trick!\n",
        "        labels += 0.05 * tf.random.uniform(tf.shape(labels))\n",
        "\n",
        "        # Train the discriminator\n",
        "        with tf.GradientTape() as tape:\n",
        "            predictions = self.discriminator(combined_images)\n",
        "            d_loss = self.loss_fn(labels, predictions)\n",
        "        grads = tape.gradient(d_loss, self.discriminator.trainable_weights)\n",
        "        self.d_optimizer.apply_gradients(\n",
        "            zip(grads, self.discriminator.trainable_weights)\n",
        "        )\n",
        "\n",
        "        # Sample random points in the latent space\n",
        "        random_latent_vectors = tf.random.normal(shape=(batch_size, self.latent_dim))\n",
        "\n",
        "        # Assemble labels that say \"all real images\"\n",
        "        misleading_labels = tf.zeros((batch_size, 1))\n",
        "\n",
        "        # Train the generator (note that we should *not* update the weights\n",
        "        # of the discriminator)!\n",
        "        with tf.GradientTape() as tape:\n",
        "            predictions = self.discriminator(self.generator(random_latent_vectors))\n",
        "            g_loss = self.loss_fn(misleading_labels, predictions)\n",
        "        grads = tape.gradient(g_loss, self.generator.trainable_weights)\n",
        "        self.g_optimizer.apply_gradients(zip(grads, self.generator.trainable_weights))\n",
        "        return {\"d_loss\": d_loss, \"g_loss\": g_loss}"
      ],
      "metadata": {
        "id": "6Yxt26mcMUEr"
      },
      "execution_count": 19,
      "outputs": []
    },
    {
      "cell_type": "code",
      "source": [
        "class GANMonitor(tf.keras.callbacks.Callback):\n",
        "    def __init__(self, num_img=3, latent_dim=128):\n",
        "        self.num_img = num_img\n",
        "        self.latent_dim = latent_dim\n",
        "\n",
        "    def on_epoch_end(self, epoch, logs=None):\n",
        "        random_latent_vectors = tf.random.normal(shape=(self.num_img, self.latent_dim))\n",
        "        generated_images = self.model.generator(random_latent_vectors)\n",
        "        generated_images *= 255\n",
        "        generated_images.numpy()\n",
        "        for i in range(self.num_img):\n",
        "            img = tf.keras.preprocessing.image.array_to_img(generated_images[i])\n",
        "            img.save(\"generated_img_{i}_{epoch}.png\".format(i=i, epoch=epoch))"
      ],
      "metadata": {
        "id": "KlHNIKVRMaBH"
      },
      "execution_count": 20,
      "outputs": []
    },
    {
      "cell_type": "code",
      "source": [
        "if TPU_used:\n",
        "    with tpu_strategy.scope():\n",
        "        gan = GAN(discriminator=discriminator, generator=generator, latent_dim=latent_dim)\n",
        "        gan.compile(\n",
        "            d_optimizer=tf.keras.optimizers.Adam(learning_rate=adam_lr, beta_1=adam_beta_1),\n",
        "            g_optimizer=tf.keras.optimizers.Adam(learning_rate=adam_lr, beta_1=adam_beta_1),\n",
        "            loss_fn=tf.keras.losses.BinaryCrossentropy(from_logits=True,\n",
        "                                                       reduction=tf.keras.losses.Reduction.NONE),\n",
        "        )\n",
        "else:\n",
        "    gan = GAN(discriminator=discriminator, generator=generator, latent_dim=latent_dim)\n",
        "    gan.compile(\n",
        "        d_optimizer=tf.keras.optimizers.Adam(learning_rate=adam_lr, beta_1=adam_beta_1),\n",
        "        g_optimizer=tf.keras.optimizers.Adam(learning_rate=adam_lr, beta_1=adam_beta_1),\n",
        "        loss_fn=tf.keras.losses.BinaryCrossentropy(from_logits=True),\n",
        "    )"
      ],
      "metadata": {
        "id": "x9S9OZj5MchV"
      },
      "execution_count": 21,
      "outputs": []
    },
    {
      "cell_type": "code",
      "source": [
        "# Train the model\n",
        "gan.fit(\n",
        "    dataset, epochs=epochs, callbacks=[GANMonitor(num_img=10, latent_dim=latent_dim)]\n",
        ")"
      ],
      "metadata": {
        "colab": {
          "base_uri": "https://localhost:8080/"
        },
        "id": "mP9ytmjvMfZ4",
        "outputId": "e2f15f48-1040-4574-afa4-70e2770758ea"
      },
      "execution_count": 22,
      "outputs": [
        {
          "output_type": "stream",
          "name": "stdout",
          "text": [
            "Epoch 1/30\n"
          ]
        },
        {
          "output_type": "stream",
          "name": "stderr",
          "text": [
            "/usr/local/lib/python3.7/dist-packages/tensorflow/python/util/dispatch.py:1082: UserWarning: \"`binary_crossentropy` received `from_logits=True`, but the `output` argument was produced by a sigmoid or softmax activation and thus does not represent logits. Was this intended?\"\n",
            "  return dispatch_target(*args, **kwargs)\n"
          ]
        },
        {
          "output_type": "stream",
          "name": "stdout",
          "text": [
            "35000/35000 [==============================] - 327s 9ms/step - d_loss: 0.2218 - g_loss: 3.1137\n",
            "Epoch 2/30\n",
            "35000/35000 [==============================] - 309s 9ms/step - d_loss: 0.2282 - g_loss: 3.1534\n",
            "Epoch 3/30\n",
            "35000/35000 [==============================] - 309s 9ms/step - d_loss: 0.2161 - g_loss: 3.3528\n",
            "Epoch 4/30\n",
            "35000/35000 [==============================] - 307s 9ms/step - d_loss: 0.2057 - g_loss: 3.5262\n",
            "Epoch 5/30\n",
            "35000/35000 [==============================] - 313s 9ms/step - d_loss: 0.2011 - g_loss: 3.5930\n",
            "Epoch 6/30\n",
            "35000/35000 [==============================] - 296s 8ms/step - d_loss: 0.1912 - g_loss: 3.8462\n",
            "Epoch 7/30\n",
            "35000/35000 [==============================] - 288s 8ms/step - d_loss: 0.1882 - g_loss: 3.8209\n",
            "Epoch 8/30\n",
            "35000/35000 [==============================] - 288s 8ms/step - d_loss: 0.1847 - g_loss: 3.9288\n",
            "Epoch 9/30\n",
            "35000/35000 [==============================] - 285s 8ms/step - d_loss: 0.1791 - g_loss: 4.0457\n",
            "Epoch 10/30\n",
            "35000/35000 [==============================] - 297s 8ms/step - d_loss: 0.1752 - g_loss: 4.1647\n",
            "Epoch 11/30\n",
            "35000/35000 [==============================] - 286s 8ms/step - d_loss: 0.1696 - g_loss: 4.3205\n",
            "Epoch 12/30\n",
            "35000/35000 [==============================] - 294s 8ms/step - d_loss: 0.1662 - g_loss: 4.4168\n",
            "Epoch 13/30\n",
            "35000/35000 [==============================] - 303s 9ms/step - d_loss: 0.1511 - g_loss: 6.3559\n",
            "Epoch 14/30\n",
            "35000/35000 [==============================] - 305s 9ms/step - d_loss: 0.1575 - g_loss: 4.7437\n",
            "Epoch 15/30\n",
            "35000/35000 [==============================] - 295s 8ms/step - d_loss: 0.1525 - g_loss: 4.8529\n",
            "Epoch 16/30\n",
            "35000/35000 [==============================] - 299s 9ms/step - d_loss: 0.1490 - g_loss: 5.0541\n",
            "Epoch 17/30\n",
            "35000/35000 [==============================] - 301s 9ms/step - d_loss: 0.1298 - g_loss: 7.0583\n",
            "Epoch 18/30\n",
            "35000/35000 [==============================] - 300s 9ms/step - d_loss: 0.1367 - g_loss: 6.6944\n",
            "Epoch 19/30\n",
            "35000/35000 [==============================] - 284s 8ms/step - d_loss: 0.1273 - g_loss: 6.9412\n",
            "Epoch 20/30\n",
            "35000/35000 [==============================] - 285s 8ms/step - d_loss: 0.1251 - g_loss: 7.4323\n",
            "Epoch 21/30\n",
            "35000/35000 [==============================] - 288s 8ms/step - d_loss: 0.1328 - g_loss: 6.8945\n",
            "Epoch 22/30\n",
            "35000/35000 [==============================] - 298s 9ms/step - d_loss: 0.1205 - g_loss: 7.4602\n",
            "Epoch 23/30\n",
            "35000/35000 [==============================] - 289s 8ms/step - d_loss: 0.1224 - g_loss: 7.2596\n",
            "Epoch 24/30\n",
            "35000/35000 [==============================] - 291s 8ms/step - d_loss: 0.0910 - g_loss: 10.9601\n",
            "Epoch 25/30\n",
            "35000/35000 [==============================] - 286s 8ms/step - d_loss: 0.1005 - g_loss: 10.7710\n",
            "Epoch 26/30\n",
            "35000/35000 [==============================] - 306s 9ms/step - d_loss: 0.1121 - g_loss: 10.2559\n",
            "Epoch 27/30\n",
            "35000/35000 [==============================] - 313s 9ms/step - d_loss: 0.1042 - g_loss: 10.9698\n",
            "Epoch 28/30\n",
            "35000/35000 [==============================] - 299s 9ms/step - d_loss: 0.0886 - g_loss: 12.2293\n",
            "Epoch 29/30\n",
            "35000/35000 [==============================] - 289s 8ms/step - d_loss: 0.0800 - g_loss: 14.7318\n",
            "Epoch 30/30\n",
            "35000/35000 [==============================] - 294s 8ms/step - d_loss: 0.0990 - g_loss: 12.9618\n"
          ]
        },
        {
          "output_type": "execute_result",
          "data": {
            "text/plain": [
              "<keras.callbacks.History at 0x7f222e533650>"
            ]
          },
          "metadata": {},
          "execution_count": 22
        }
      ]
    }
  ]
}