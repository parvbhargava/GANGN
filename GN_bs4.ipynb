{
  "nbformat": 4,
  "nbformat_minor": 0,
  "metadata": {
    "colab": {
      "name": "GN_bs4.ipynb",
      "private_outputs": true,
      "provenance": [],
      "authorship_tag": "ABX9TyPG4gngqS2JG7Z5iWVrYCLh",
      "include_colab_link": true
    },
    "kernelspec": {
      "name": "python3",
      "display_name": "Python 3"
    },
    "language_info": {
      "name": "python"
    }
  },
  "cells": [
    {
      "cell_type": "markdown",
      "metadata": {
        "id": "view-in-github",
        "colab_type": "text"
      },
      "source": [
        "<a href=\"https://colab.research.google.com/github/parvbhargava/GANGN/blob/main/GN_bs4.ipynb\" target=\"_parent\"><img src=\"https://colab.research.google.com/assets/colab-badge.svg\" alt=\"Open In Colab\"/></a>"
      ]
    },
    {
      "cell_type": "code",
      "source": [
        "!pip install tensorflow_addons"
      ],
      "metadata": {
        "id": "K-AB16lwy6GW"
      },
      "execution_count": null,
      "outputs": []
    },
    {
      "cell_type": "code",
      "execution_count": null,
      "metadata": {
        "id": "RaE8ZYi8BhWn"
      },
      "outputs": [],
      "source": [
        "import matplotlib.pyplot as plt\n",
        "from keras import preprocessing\n",
        "from keras.models import Sequential\n",
        "from keras.layers import Conv2D,Dropout,Dense,Flatten,Conv2DTranspose,BatchNormalization,LeakyReLU,Reshape\n",
        "import tensorflow as tf\n",
        "import tensorflow_addons as tfa \n",
        "import pandas as pd\n",
        "import numpy as np\n",
        "from tensorflow.keras.utils import plot_model"
      ]
    },
    {
      "cell_type": "code",
      "source": [
        "train_data = pd.read_csv('https://raw.githubusercontent.com/parvbhargava/GANGN/main/Datasets/fashion-mnist_test/fashion-mnist_test.csv')\n",
        "train_data.head()"
      ],
      "metadata": {
        "id": "jq9FgEl9CB6n"
      },
      "execution_count": null,
      "outputs": []
    },
    {
      "cell_type": "code",
      "source": [
        "X_train = train_data.drop('label',axis=1)\n",
        "X_train.head()"
      ],
      "metadata": {
        "id": "U6S1Sk76CGj-"
      },
      "execution_count": null,
      "outputs": []
    },
    {
      "cell_type": "code",
      "source": [
        "X_train=X_train.values\n",
        "print(X_train.shape)"
      ],
      "metadata": {
        "id": "_gVO7uXXCI3e"
      },
      "execution_count": null,
      "outputs": []
    },
    {
      "cell_type": "code",
      "source": [
        "X_train=X_train.reshape(-1,28,28,1)\n",
        "print(X_train.shape)"
      ],
      "metadata": {
        "id": "wA32srZoCKTv"
      },
      "execution_count": null,
      "outputs": []
    },
    {
      "cell_type": "code",
      "source": [
        "fig,axe=plt.subplots(2,2)\n",
        "idx = 0\n",
        "for i in range(2):\n",
        "    for j in range(2):\n",
        "        axe[i,j].imshow(X_train[idx].reshape(28,28),cmap='gray')\n",
        "        idx+=1"
      ],
      "metadata": {
        "id": "s6Usr1FVCLwi"
      },
      "execution_count": null,
      "outputs": []
    },
    {
      "cell_type": "code",
      "source": [
        "\n",
        "X_train =  X_train.astype('float32')"
      ],
      "metadata": {
        "id": "oyR4Niq3CNBV"
      },
      "execution_count": null,
      "outputs": []
    },
    {
      "cell_type": "code",
      "source": [
        "X_train = X_train/255\n",
        "X_train = X_train*2 - 1."
      ],
      "metadata": {
        "id": "FrQWm-PtCOOB"
      },
      "execution_count": null,
      "outputs": []
    },
    {
      "cell_type": "code",
      "source": [
        "print(X_train.max(),X_train.min())"
      ],
      "metadata": {
        "id": "uiKyIW3ICP-V"
      },
      "execution_count": null,
      "outputs": []
    },
    {
      "cell_type": "code",
      "source": [
        "generator = Sequential()\n",
        "generator.add(Dense(512,input_shape=[100]))\n",
        "generator.add(LeakyReLU(alpha=0.2))\n",
        "generator.add(tfa.layers.GroupNormalization(batch_size=4))\n",
        "generator.add(Dense(256))\n",
        "generator.add(LeakyReLU(alpha=0.2))\n",
        "generator.add(tfa.layers.GroupNormalization(batch_size=4))\n",
        "generator.add(Dense(128))\n",
        "generator.add(LeakyReLU(alpha=0.2))\n",
        "generator.add(tfa.layers.GroupNormalization(batch_size=4))\n",
        "generator.add(Dense(784))\n",
        "generator.add(Reshape([28,28,1]))"
      ],
      "metadata": {
        "id": "JKQl7uY3CSTy"
      },
      "execution_count": null,
      "outputs": []
    },
    {
      "cell_type": "code",
      "source": [
        "generator.summary()"
      ],
      "metadata": {
        "id": "qm9-VZF7CTzG"
      },
      "execution_count": null,
      "outputs": []
    },
    {
      "cell_type": "code",
      "source": [
        "plot_model(generator,show_shapes=True)"
      ],
      "metadata": {
        "id": "3HamBAEeBwY4"
      },
      "execution_count": null,
      "outputs": []
    },
    {
      "cell_type": "code",
      "source": [
        "discriminator = Sequential()\n",
        "discriminator.add(Dense(1,input_shape=[28,28,1]))\n",
        "discriminator.add(Flatten())\n",
        "discriminator.add(Dense(256))\n",
        "discriminator.add(LeakyReLU(alpha=0.2))\n",
        "discriminator.add(Dropout(0.5))\n",
        "discriminator.add(Dense(128))\n",
        "discriminator.add(LeakyReLU(alpha=0.2))\n",
        "discriminator.add(Dropout(0.5))\n",
        "discriminator.add(Dense(64))\n",
        "discriminator.add(LeakyReLU(alpha=0.2))\n",
        "discriminator.add(Dropout(0.5))\n",
        "discriminator.add(Dense(1,activation='sigmoid'))"
      ],
      "metadata": {
        "id": "5B0D154TCVml"
      },
      "execution_count": null,
      "outputs": []
    },
    {
      "cell_type": "code",
      "source": [
        "discriminator.summary()"
      ],
      "metadata": {
        "id": "aJD3_QqxCXWK"
      },
      "execution_count": null,
      "outputs": []
    },
    {
      "cell_type": "code",
      "source": [
        "plot_model(discriminator,show_shapes=True)"
      ],
      "metadata": {
        "id": "-CvyrbKgCC1K"
      },
      "execution_count": null,
      "outputs": []
    },
    {
      "cell_type": "code",
      "source": [
        "GAN =Sequential([generator,discriminator])\n",
        "discriminator.compile(optimizer='adam',loss='binary_crossentropy')\n",
        "discriminator.trainable = False"
      ],
      "metadata": {
        "id": "glgyjJ5HCY--"
      },
      "execution_count": null,
      "outputs": []
    },
    {
      "cell_type": "code",
      "source": [
        "GAN.compile(optimizer='adam',loss='binary_crossentropy')"
      ],
      "metadata": {
        "id": "rkTtR26FCakq"
      },
      "execution_count": null,
      "outputs": []
    },
    {
      "cell_type": "code",
      "source": [
        "GAN.summary()"
      ],
      "metadata": {
        "id": "omNnJKLECc3h"
      },
      "execution_count": null,
      "outputs": []
    },
    {
      "cell_type": "code",
      "source": [
        "epochs = 30\n",
        "batch_size = 100\n",
        "noise_shape=100"
      ],
      "metadata": {
        "id": "ExHVHNhoCeNi"
      },
      "execution_count": null,
      "outputs": []
    },
    {
      "cell_type": "code",
      "source": [
        "for epoch in range(epochs):\n",
        "    print(f\"Currently on Epoch {epoch+1}\")\n",
        "    \n",
        "    \n",
        "    for i in range(X_train.shape[0]//batch_size):\n",
        "        \n",
        "        if (i+1)%50 == 0:\n",
        "            print(f\"\\tCurrently on batch number {i+1} of {X_train.shape[0]//batch_size}\")\n",
        "            \n",
        "        noise=np.random.normal(size=[batch_size,noise_shape])\n",
        "       \n",
        "        gen_image = generator.predict_on_batch(noise)\n",
        "        \n",
        "        train_dataset = X_train[i*batch_size:(i+1)*batch_size]\n",
        "       \n",
        "        #training discriminator on real images\n",
        "        train_label=np.ones(shape=(batch_size,1))\n",
        "        discriminator.trainable = True\n",
        "        d_loss_real=discriminator.train_on_batch(train_dataset,train_label)\n",
        "        \n",
        "        #training discriminator on fake images\n",
        "        train_label=np.zeros(shape=(batch_size,1))\n",
        "        d_loss_fake=discriminator.train_on_batch(gen_image,train_label)\n",
        "        \n",
        "        \n",
        "        #training generator \n",
        "        noise=np.random.normal(size=[batch_size,noise_shape])\n",
        "        train_label=np.ones(shape=(batch_size,1))\n",
        "        discriminator.trainable = False\n",
        "        \n",
        "        d_g_loss_batch =GAN.train_on_batch(noise, train_label)\n",
        "        \n",
        "        \n",
        "        \n",
        "       \n",
        "    #plotting generated images at the start and then after every 10 epoch\n",
        "    if epoch % 10 == 0:\n",
        "        samples = 10\n",
        "        x_fake = generator.predict(np.random.normal(loc=0, scale=1, size=(samples, 100)))\n",
        "\n",
        "        for k in range(samples):\n",
        "            plt.subplot(2, 5, k+1)\n",
        "            plt.imshow(x_fake[k].reshape(28, 28), cmap='gray')\n",
        "            plt.xticks([])\n",
        "            plt.yticks([])\n",
        "\n",
        "        plt.tight_layout()\n",
        "        plt.show()\n",
        "\n",
        "        \n",
        "        \n",
        "print('Training is complete')"
      ],
      "metadata": {
        "id": "bynoyJ6DC_Xt"
      },
      "execution_count": null,
      "outputs": []
    },
    {
      "cell_type": "code",
      "source": [
        "noise=np.random.normal(size=[10,noise_shape])\n",
        "\n",
        "gen_image = generator.predict(noise)"
      ],
      "metadata": {
        "id": "hfMtVcOjDAI2"
      },
      "execution_count": null,
      "outputs": []
    },
    {
      "cell_type": "code",
      "source": [
        "plt.imshow(noise)\n",
        "plt.title('How the noise looks')"
      ],
      "metadata": {
        "id": "5xluej4gDDzG"
      },
      "execution_count": null,
      "outputs": []
    },
    {
      "cell_type": "code",
      "source": [
        "fig,axe=plt.subplots(2,5)\n",
        "fig.suptitle('Generated Images from Noise using GANs')\n",
        "idx=0\n",
        "for i in range(2):\n",
        "    for j in range(5):\n",
        "         axe[i,j].imshow(gen_image[idx].reshape(28,28),cmap='gray')\n",
        "         idx+=1"
      ],
      "metadata": {
        "id": "Kzg7uyR1DFOE"
      },
      "execution_count": null,
      "outputs": []
    }
  ]
}